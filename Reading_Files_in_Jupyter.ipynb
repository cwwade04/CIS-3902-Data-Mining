{
  "nbformat": 4,
  "nbformat_minor": 0,
  "metadata": {
    "colab": {
      "provenance": [],
      "authorship_tag": "ABX9TyPobQcNmnncFbTXhYTqRyY1",
      "include_colab_link": true
    },
    "kernelspec": {
      "name": "python3",
      "display_name": "Python 3"
    },
    "language_info": {
      "name": "python"
    }
  },
  "cells": [
    {
      "cell_type": "markdown",
      "metadata": {
        "id": "view-in-github",
        "colab_type": "text"
      },
      "source": [
        "<a href=\"https://colab.research.google.com/github/cwwade04/CIS-3902-Data-Mining/blob/main/Reading_Files_in_Jupyter.ipynb\" target=\"_parent\"><img src=\"https://colab.research.google.com/assets/colab-badge.svg\" alt=\"Open In Colab\"/></a>"
      ]
    },
    {
      "cell_type": "code",
      "execution_count": 15,
      "metadata": {
        "id": "zpPn3YSJec5-"
      },
      "outputs": [],
      "source": [
        "import pandas as pd\n",
        "from google.colab import drive, files"
      ]
    },
    {
      "cell_type": "code",
      "source": [
        "# 1. Reading a CSV file using Pandas from a URL\n",
        "csv_url = 'https://archive.ics.uci.edu/ml/machine-learning-databases/housing/housing.data'\n",
        "# Define column names for the dataset\n",
        "columns = ['CRIM', 'ZN', 'INDUS', 'CHAS', 'NOX', 'RM', 'AGE', 'DIS', 'RAD', 'TAX', 'PTRATIO', 'B', 'LSTAT', 'MEDV']\n",
        "# Read the dataset with the column names\n",
        "df_boston = pd.read_csv(csv_url, sep='\\s+', header=None, names=columns) #sep='\\s+' is the new command that replaces delim_whitespace=true\n",
        "# and the command tells Pandas to use one or more whitespace characters as a delimiter\n",
        "# Show the first few rows\n",
        "print(df_boston.head())"
      ],
      "metadata": {
        "colab": {
          "base_uri": "https://localhost:8080/"
        },
        "id": "U54I73vaeyqe",
        "outputId": "103d1925-2cde-4b49-8905-3007e2947915"
      },
      "execution_count": 16,
      "outputs": [
        {
          "output_type": "stream",
          "name": "stdout",
          "text": [
            "      CRIM    ZN  INDUS  CHAS    NOX     RM   AGE     DIS  RAD    TAX  \\\n",
            "0  0.00632  18.0   2.31     0  0.538  6.575  65.2  4.0900    1  296.0   \n",
            "1  0.02731   0.0   7.07     0  0.469  6.421  78.9  4.9671    2  242.0   \n",
            "2  0.02729   0.0   7.07     0  0.469  7.185  61.1  4.9671    2  242.0   \n",
            "3  0.03237   0.0   2.18     0  0.458  6.998  45.8  6.0622    3  222.0   \n",
            "4  0.06905   0.0   2.18     0  0.458  7.147  54.2  6.0622    3  222.0   \n",
            "\n",
            "   PTRATIO       B  LSTAT  MEDV  \n",
            "0     15.3  396.90   4.98  24.0  \n",
            "1     17.8  396.90   9.14  21.6  \n",
            "2     17.8  392.83   4.03  34.7  \n",
            "3     18.7  394.63   2.94  33.4  \n",
            "4     18.7  396.90   5.33  36.2  \n"
          ]
        }
      ]
    },
    {
      "cell_type": "code",
      "source": [
        "# 2. Reading raw data from a GitHub URL (ensure the URL is raw)\n",
        "raw_github_url = 'https://raw.githubusercontent.com/plthomps/CIS-3902-Data-Mining/refs/heads/main/president_polls_2016.csv'\n",
        "df_raw_url = pd.read_csv(raw_github_url)\n",
        "print(\"\\nRaw data from GitHub URL:\")\n",
        "print(df_raw_url.head())"
      ],
      "metadata": {
        "colab": {
          "base_uri": "https://localhost:8080/"
        },
        "id": "4C7XJQA8ezow",
        "outputId": "5290fca6-020d-4487-aa9e-28094c078eaa"
      },
      "execution_count": 18,
      "outputs": [
        {
          "output_type": "stream",
          "name": "stdout",
          "text": [
            "\n",
            "Raw data from GitHub URL:\n",
            "   cycle     branch        type                        matchup forecastdate  \\\n",
            "0   2016  President  polls-plus  Clinton vs. Trump vs. Johnson      11/8/16   \n",
            "1   2016  President  polls-plus  Clinton vs. Trump vs. Johnson      11/8/16   \n",
            "2   2016  President  polls-plus  Clinton vs. Trump vs. Johnson      11/8/16   \n",
            "3   2016  President  polls-plus  Clinton vs. Trump vs. Johnson      11/8/16   \n",
            "4   2016  President  polls-plus  Clinton vs. Trump vs. Johnson      11/8/16   \n",
            "\n",
            "  state  startdate    enddate                  pollster grade  ...  \\\n",
            "0  U.S.  11/3/2016  11/6/2016  ABC News/Washington Post    A+  ...   \n",
            "1  U.S.  11/1/2016  11/7/2016   Google Consumer Surveys     B  ...   \n",
            "2  U.S.  11/2/2016  11/6/2016                     Ipsos    A-  ...   \n",
            "3  U.S.  11/4/2016  11/7/2016                    YouGov     B  ...   \n",
            "4  U.S.  11/3/2016  11/6/2016          Gravis Marketing    B-  ...   \n",
            "\n",
            "   adjpoll_clinton adjpoll_trump  adjpoll_johnson  adjpoll_mcmullin  \\\n",
            "0         45.20163      41.72430         4.626221               NaN   \n",
            "1         43.34557      41.21439         5.175792               NaN   \n",
            "2         42.02638      38.81620         6.844734               NaN   \n",
            "3         45.65676      40.92004         6.069454               NaN   \n",
            "4         46.84089      42.33184         3.726098               NaN   \n",
            "\n",
            "   multiversions                                                url  poll_id  \\\n",
            "0            NaN  https://www.washingtonpost.com/news/the-fix/wp...    48630   \n",
            "1            NaN  https://datastudio.google.com/u/0/#/org//repor...    48847   \n",
            "2            NaN  http://projects.fivethirtyeight.com/polls/2016...    48922   \n",
            "3            NaN  https://d25d2506sfb94s.cloudfront.net/cumulus_...    48687   \n",
            "4            NaN  http://www.gravispolls.com/2016/11/final-natio...    48848   \n",
            "\n",
            "   question_id  createddate             timestamp  \n",
            "0        76192      11/7/16  09:35:33  8 Nov 2016  \n",
            "1        76443      11/7/16  09:35:33  8 Nov 2016  \n",
            "2        76636      11/8/16  09:35:33  8 Nov 2016  \n",
            "3        76262      11/7/16  09:35:33  8 Nov 2016  \n",
            "4        76444      11/7/16  09:35:33  8 Nov 2016  \n",
            "\n",
            "[5 rows x 27 columns]\n"
          ]
        }
      ]
    },
    {
      "cell_type": "code",
      "source": [
        "# 3. Reading a CSV file from Google Drive\n",
        "drive.mount('/content/drive')  # Mount Google Drive\n",
        "#\n",
        "file_path = '/content/drive/MyDrive/cis3902/excel-sample.xlsx'  # Update the path to your file\n",
        "df_drive = pd.read_excel(file_path)\n",
        "print(\"\\nCSV from Google Drive:\")\n",
        "print(df_drive.head())"
      ],
      "metadata": {
        "colab": {
          "base_uri": "https://localhost:8080/"
        },
        "id": "XNUkhO_we5oP",
        "outputId": "e3babf28-4942-4f3b-e00e-933c6a3c27dc"
      },
      "execution_count": 12,
      "outputs": [
        {
          "output_type": "stream",
          "name": "stdout",
          "text": [
            "Drive already mounted at /content/drive; to attempt to forcibly remount, call drive.mount(\"/content/drive\", force_remount=True).\n",
            "\n",
            "CSV from Google Drive:\n",
            "    id  gpa      level oncampus\n",
            "0  100  3.3     Senior       No\n",
            "1  200  3.2     Senior       No\n",
            "2  300  4.0  FirstYear      Yes\n",
            "3  400  2.1  Sophomore      Yes\n",
            "4  500  1.9  FirstYear       No\n"
          ]
        }
      ]
    },
    {
      "cell_type": "code",
      "source": [
        "# 4. Uploading and reading an Excel file (.xlsx)\n",
        "uploaded = files.upload()  # Prompt to upload file\n",
        "\n",
        "for filename in uploaded.keys():\n",
        "    df_excel = pd.read_excel(filename)\n",
        "    print(\"\\nExcel file uploaded:\")\n",
        "    print(df_excel.head())"
      ],
      "metadata": {
        "colab": {
          "base_uri": "https://localhost:8080/",
          "height": 211
        },
        "id": "KQ9oAgRLe81y",
        "outputId": "21b6ab30-283f-4107-eff7-6396eb472f00"
      },
      "execution_count": 14,
      "outputs": [
        {
          "output_type": "display_data",
          "data": {
            "text/plain": [
              "<IPython.core.display.HTML object>"
            ],
            "text/html": [
              "\n",
              "     <input type=\"file\" id=\"files-39fd291d-34d5-4556-8b82-c2aa68464883\" name=\"files[]\" multiple disabled\n",
              "        style=\"border:none\" />\n",
              "     <output id=\"result-39fd291d-34d5-4556-8b82-c2aa68464883\">\n",
              "      Upload widget is only available when the cell has been executed in the\n",
              "      current browser session. Please rerun this cell to enable.\n",
              "      </output>\n",
              "      <script>// Copyright 2017 Google LLC\n",
              "//\n",
              "// Licensed under the Apache License, Version 2.0 (the \"License\");\n",
              "// you may not use this file except in compliance with the License.\n",
              "// You may obtain a copy of the License at\n",
              "//\n",
              "//      http://www.apache.org/licenses/LICENSE-2.0\n",
              "//\n",
              "// Unless required by applicable law or agreed to in writing, software\n",
              "// distributed under the License is distributed on an \"AS IS\" BASIS,\n",
              "// WITHOUT WARRANTIES OR CONDITIONS OF ANY KIND, either express or implied.\n",
              "// See the License for the specific language governing permissions and\n",
              "// limitations under the License.\n",
              "\n",
              "/**\n",
              " * @fileoverview Helpers for google.colab Python module.\n",
              " */\n",
              "(function(scope) {\n",
              "function span(text, styleAttributes = {}) {\n",
              "  const element = document.createElement('span');\n",
              "  element.textContent = text;\n",
              "  for (const key of Object.keys(styleAttributes)) {\n",
              "    element.style[key] = styleAttributes[key];\n",
              "  }\n",
              "  return element;\n",
              "}\n",
              "\n",
              "// Max number of bytes which will be uploaded at a time.\n",
              "const MAX_PAYLOAD_SIZE = 100 * 1024;\n",
              "\n",
              "function _uploadFiles(inputId, outputId) {\n",
              "  const steps = uploadFilesStep(inputId, outputId);\n",
              "  const outputElement = document.getElementById(outputId);\n",
              "  // Cache steps on the outputElement to make it available for the next call\n",
              "  // to uploadFilesContinue from Python.\n",
              "  outputElement.steps = steps;\n",
              "\n",
              "  return _uploadFilesContinue(outputId);\n",
              "}\n",
              "\n",
              "// This is roughly an async generator (not supported in the browser yet),\n",
              "// where there are multiple asynchronous steps and the Python side is going\n",
              "// to poll for completion of each step.\n",
              "// This uses a Promise to block the python side on completion of each step,\n",
              "// then passes the result of the previous step as the input to the next step.\n",
              "function _uploadFilesContinue(outputId) {\n",
              "  const outputElement = document.getElementById(outputId);\n",
              "  const steps = outputElement.steps;\n",
              "\n",
              "  const next = steps.next(outputElement.lastPromiseValue);\n",
              "  return Promise.resolve(next.value.promise).then((value) => {\n",
              "    // Cache the last promise value to make it available to the next\n",
              "    // step of the generator.\n",
              "    outputElement.lastPromiseValue = value;\n",
              "    return next.value.response;\n",
              "  });\n",
              "}\n",
              "\n",
              "/**\n",
              " * Generator function which is called between each async step of the upload\n",
              " * process.\n",
              " * @param {string} inputId Element ID of the input file picker element.\n",
              " * @param {string} outputId Element ID of the output display.\n",
              " * @return {!Iterable<!Object>} Iterable of next steps.\n",
              " */\n",
              "function* uploadFilesStep(inputId, outputId) {\n",
              "  const inputElement = document.getElementById(inputId);\n",
              "  inputElement.disabled = false;\n",
              "\n",
              "  const outputElement = document.getElementById(outputId);\n",
              "  outputElement.innerHTML = '';\n",
              "\n",
              "  const pickedPromise = new Promise((resolve) => {\n",
              "    inputElement.addEventListener('change', (e) => {\n",
              "      resolve(e.target.files);\n",
              "    });\n",
              "  });\n",
              "\n",
              "  const cancel = document.createElement('button');\n",
              "  inputElement.parentElement.appendChild(cancel);\n",
              "  cancel.textContent = 'Cancel upload';\n",
              "  const cancelPromise = new Promise((resolve) => {\n",
              "    cancel.onclick = () => {\n",
              "      resolve(null);\n",
              "    };\n",
              "  });\n",
              "\n",
              "  // Wait for the user to pick the files.\n",
              "  const files = yield {\n",
              "    promise: Promise.race([pickedPromise, cancelPromise]),\n",
              "    response: {\n",
              "      action: 'starting',\n",
              "    }\n",
              "  };\n",
              "\n",
              "  cancel.remove();\n",
              "\n",
              "  // Disable the input element since further picks are not allowed.\n",
              "  inputElement.disabled = true;\n",
              "\n",
              "  if (!files) {\n",
              "    return {\n",
              "      response: {\n",
              "        action: 'complete',\n",
              "      }\n",
              "    };\n",
              "  }\n",
              "\n",
              "  for (const file of files) {\n",
              "    const li = document.createElement('li');\n",
              "    li.append(span(file.name, {fontWeight: 'bold'}));\n",
              "    li.append(span(\n",
              "        `(${file.type || 'n/a'}) - ${file.size} bytes, ` +\n",
              "        `last modified: ${\n",
              "            file.lastModifiedDate ? file.lastModifiedDate.toLocaleDateString() :\n",
              "                                    'n/a'} - `));\n",
              "    const percent = span('0% done');\n",
              "    li.appendChild(percent);\n",
              "\n",
              "    outputElement.appendChild(li);\n",
              "\n",
              "    const fileDataPromise = new Promise((resolve) => {\n",
              "      const reader = new FileReader();\n",
              "      reader.onload = (e) => {\n",
              "        resolve(e.target.result);\n",
              "      };\n",
              "      reader.readAsArrayBuffer(file);\n",
              "    });\n",
              "    // Wait for the data to be ready.\n",
              "    let fileData = yield {\n",
              "      promise: fileDataPromise,\n",
              "      response: {\n",
              "        action: 'continue',\n",
              "      }\n",
              "    };\n",
              "\n",
              "    // Use a chunked sending to avoid message size limits. See b/62115660.\n",
              "    let position = 0;\n",
              "    do {\n",
              "      const length = Math.min(fileData.byteLength - position, MAX_PAYLOAD_SIZE);\n",
              "      const chunk = new Uint8Array(fileData, position, length);\n",
              "      position += length;\n",
              "\n",
              "      const base64 = btoa(String.fromCharCode.apply(null, chunk));\n",
              "      yield {\n",
              "        response: {\n",
              "          action: 'append',\n",
              "          file: file.name,\n",
              "          data: base64,\n",
              "        },\n",
              "      };\n",
              "\n",
              "      let percentDone = fileData.byteLength === 0 ?\n",
              "          100 :\n",
              "          Math.round((position / fileData.byteLength) * 100);\n",
              "      percent.textContent = `${percentDone}% done`;\n",
              "\n",
              "    } while (position < fileData.byteLength);\n",
              "  }\n",
              "\n",
              "  // All done.\n",
              "  yield {\n",
              "    response: {\n",
              "      action: 'complete',\n",
              "    }\n",
              "  };\n",
              "}\n",
              "\n",
              "scope.google = scope.google || {};\n",
              "scope.google.colab = scope.google.colab || {};\n",
              "scope.google.colab._files = {\n",
              "  _uploadFiles,\n",
              "  _uploadFilesContinue,\n",
              "};\n",
              "})(self);\n",
              "</script> "
            ]
          },
          "metadata": {}
        },
        {
          "output_type": "stream",
          "name": "stdout",
          "text": [
            "Saving excel-sample.xlsx to excel-sample.xlsx\n",
            "\n",
            "Excel file uploaded:\n",
            "    id  gpa      level oncampus\n",
            "0  100  3.3     Senior       No\n",
            "1  200  3.2     Senior       No\n",
            "2  300  4.0  FirstYear      Yes\n",
            "3  400  2.1  Sophomore      Yes\n",
            "4  500  1.9  FirstYear       No\n"
          ]
        }
      ]
    }
  ]
}